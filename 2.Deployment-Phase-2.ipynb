{
 "cells": [
  {
   "cell_type": "code",
   "execution_count": 16,
   "id": "9f1a3a07-0f5a-4268-927b-9b15e69c0ddc",
   "metadata": {},
   "outputs": [],
   "source": [
    "import pickle  # import picle class"
   ]
  },
  {
   "cell_type": "code",
   "execution_count": 17,
   "id": "45ea61da-b7a4-4b1b-9154-73652ec34d37",
   "metadata": {},
   "outputs": [],
   "source": [
    "# load the previously saved model from binary file\n",
    "loaded_model = pickle.load(open(\"finalized_model_linear.sav\", 'rb'))"
   ]
  },
  {
   "cell_type": "code",
   "execution_count": 18,
   "id": "9c420e4a-ac16-4d9c-82ff-9de6f1743521",
   "metadata": {},
   "outputs": [
    {
     "name": "stderr",
     "output_type": "stream",
     "text": [
      "C:\\Anaconda\\Lib\\site-packages\\sklearn\\utils\\validation.py:2739: UserWarning: X does not have valid feature names, but LinearRegression was fitted with feature names\n",
      "  warnings.warn(\n"
     ]
    }
   ],
   "source": [
    "result = loaded_model.predict([[15]]) # make prediction by using pre trained loaded model"
   ]
  },
  {
   "cell_type": "code",
   "execution_count": 19,
   "id": "2da2ca16-f8ad-4dda-bd87-502fb95324e8",
   "metadata": {},
   "outputs": [
    {
     "data": {
      "text/plain": [
       "array([[167181.3106341]])"
      ]
     },
     "execution_count": 19,
     "metadata": {},
     "output_type": "execute_result"
    }
   ],
   "source": [
    "result"
   ]
  },
  {
   "cell_type": "code",
   "execution_count": 20,
   "id": "02223dea-96ef-45b5-ada7-7ca05c7c7786",
   "metadata": {},
   "outputs": [
    {
     "name": "stderr",
     "output_type": "stream",
     "text": [
      "C:\\Anaconda\\Lib\\site-packages\\sklearn\\utils\\validation.py:2739: UserWarning: X does not have valid feature names, but LinearRegression was fitted with feature names\n",
      "  warnings.warn(\n"
     ]
    }
   ],
   "source": [
    "result_0 = loaded_model.predict([[0]]) #  prediction for bias by substituting '0'"
   ]
  },
  {
   "cell_type": "code",
   "execution_count": 21,
   "id": "5eb2a944-1895-46e6-8c1a-2f178280e487",
   "metadata": {},
   "outputs": [
    {
     "data": {
      "text/plain": [
       "array([[26777.3913412]])"
      ]
     },
     "execution_count": 21,
     "metadata": {},
     "output_type": "execute_result"
    }
   ],
   "source": [
    "result_0 # y = 9360X+ 26777 => y = 9360(0) + 26777 => y = 26777 that's bias"
   ]
  }
 ],
 "metadata": {
  "kernelspec": {
   "display_name": "Python 3 (ipykernel)",
   "language": "python",
   "name": "python3"
  },
  "language_info": {
   "codemirror_mode": {
    "name": "ipython",
    "version": 3
   },
   "file_extension": ".py",
   "mimetype": "text/x-python",
   "name": "python",
   "nbconvert_exporter": "python",
   "pygments_lexer": "ipython3",
   "version": "3.13.5"
  }
 },
 "nbformat": 4,
 "nbformat_minor": 5
}
